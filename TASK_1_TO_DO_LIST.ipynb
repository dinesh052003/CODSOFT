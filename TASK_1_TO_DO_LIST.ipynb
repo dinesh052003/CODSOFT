{
  "cells": [
    {
      "cell_type": "markdown",
      "metadata": {
        "id": "view-in-github",
        "colab_type": "text"
      },
      "source": [
        "<a href=\"https://colab.research.google.com/github/dinesh052003/CODSOFT/blob/main/TASK_1_TO_DO_LIST.ipynb\" target=\"_parent\"><img src=\"https://colab.research.google.com/assets/colab-badge.svg\" alt=\"Open In Colab\"/></a>"
      ]
    },
    {
      "cell_type": "code",
      "source": [
        "# Define an empty list to store tasks\n",
        "tasks = []\n",
        "\n",
        "# Function to add a task to the list\n",
        "def add_task(task):\n",
        "    tasks.append(task)\n",
        "    print(f\"Task '{task}' added to the to-do list.\")\n",
        "\n",
        "# Function to remove a task from the list\n",
        "def remove_task(task):\n",
        "    if task in tasks:\n",
        "        tasks.remove(task)\n",
        "        print(f\"Task '{task}' removed from the to-do list.\")\n",
        "    else:\n",
        "        print(f\"Task '{task}' not found in the to-do list.\")\n",
        "\n",
        "# Function to display the current tasks\n",
        "def display_tasks():\n",
        "    if not tasks:\n",
        "        print(\"The to-do list is empty.\")\n",
        "    else:\n",
        "        print(\"To-Do List:\")\n",
        "        for index, task in enumerate(tasks, start=1):\n",
        "            print(f\"{index}. {task}\")\n",
        "\n",
        "# Main loop for the to-do list application\n",
        "while True:\n",
        "    print(\"\\nOptions:\")\n",
        "    print(\"1. Add a task\")\n",
        "    print(\"2. Remove a task\")\n",
        "    print(\"3. Display tasks\")\n",
        "    print(\"4. Quit\")\n",
        "\n",
        "    choice = input(\"Enter your choice (1/2/3/4): \")\n",
        "\n",
        "    if choice == '1':\n",
        "        task = input(\"Enter the task to add: \")\n",
        "        add_task(task)\n",
        "    elif choice == '2':\n",
        "        task = input(\"Enter the task to remove: \")\n",
        "        remove_task(task)\n",
        "    elif choice == '3':\n",
        "        display_tasks()\n",
        "    elif choice == '4':\n",
        "        print(\"Goodbye!\")\n",
        "        break\n",
        "    else:\n",
        "        print(\"Invalid choice. Please select a valid option (1/2/3/4).\")\n"
      ],
      "metadata": {
        "colab": {
          "base_uri": "https://localhost:8080/"
        },
        "id": "R6jlLKPq_Sv5",
        "outputId": "1c1a1d41-f52c-407b-bc6a-437fd52da879"
      },
      "execution_count": 23,
      "outputs": [
        {
          "output_type": "stream",
          "name": "stdout",
          "text": [
            "\n",
            "Options:\n",
            "1. Add a task\n",
            "2. Remove a task\n",
            "3. Display tasks\n",
            "4. Quit\n",
            "Enter your choice (1/2/3/4): 1\n",
            "Enter the task to add: HELLO IAM DINESH \n",
            "Task 'HELLO IAM DINESH ' added to the to-do list.\n",
            "\n",
            "Options:\n",
            "1. Add a task\n",
            "2. Remove a task\n",
            "3. Display tasks\n",
            "4. Quit\n",
            "Enter your choice (1/2/3/4): 3\n",
            "To-Do List:\n",
            "1. HELLO IAM DINESH \n",
            "\n",
            "Options:\n",
            "1. Add a task\n",
            "2. Remove a task\n",
            "3. Display tasks\n",
            "4. Quit\n",
            "Enter your choice (1/2/3/4): 4\n",
            "Goodbye!\n"
          ]
        }
      ]
    }
  ],
  "metadata": {
    "colab": {
      "provenance": [],
      "authorship_tag": "ABX9TyPZbu0GaoUJQNs9u8iGjWZt",
      "include_colab_link": true
    },
    "kernelspec": {
      "display_name": "Python 3",
      "name": "python3"
    },
    "language_info": {
      "name": "python"
    }
  },
  "nbformat": 4,
  "nbformat_minor": 0
}
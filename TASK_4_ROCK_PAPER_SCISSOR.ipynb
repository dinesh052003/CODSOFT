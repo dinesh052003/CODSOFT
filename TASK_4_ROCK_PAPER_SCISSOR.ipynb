{
  "cells": [
    {
      "cell_type": "markdown",
      "metadata": {
        "id": "view-in-github",
        "colab_type": "text"
      },
      "source": [
        "<a href=\"https://colab.research.google.com/github/dinesh052003/CODSOFT/blob/main/TASK_4_ROCK_PAPER_SCISSOR.ipynb\" target=\"_parent\"><img src=\"https://colab.research.google.com/assets/colab-badge.svg\" alt=\"Open In Colab\"/></a>"
      ]
    },
    {
      "cell_type": "code",
      "source": [
        "import random\n",
        "\n",
        "\n",
        "def get_user_choice():\n",
        "    while True:\n",
        "        user_choice = input(\"Choose Rock, Paper, or Scissors: \").strip().lower()\n",
        "        if user_choice in (\"rock\", \"paper\", \"scissors\"):\n",
        "            return user_choice\n",
        "        else:\n",
        "            print(\"Invalid choice. Please choose Rock, Paper, or Scissors.\")\n",
        "\n",
        "\n",
        "def get_computer_choice():\n",
        "    return random.choice([\"rock\", \"paper\", \"scissors\"])\n",
        "\n",
        "\n",
        "def determine_winner(user_choice, computer_choice):\n",
        "    if user_choice == computer_choice:\n",
        "        return \"It's a tie!\"\n",
        "    elif (user_choice == \"rock\" and computer_choice == \"scissors\") or \\\n",
        "            (user_choice == \"paper\" and computer_choice == \"rock\") or \\\n",
        "            (user_choice == \"scissors\" and computer_choice == \"paper\"):\n",
        "        return \"You win!\"\n",
        "    else:\n",
        "        return \"Computer wins!\"\n",
        "\n",
        "\n",
        "while True:\n",
        "    user_choice = get_user_choice()\n",
        "    computer_choice = get_computer_choice()\n",
        "    print(f\"You chose {user_choice}.\")\n",
        "    print(f\"Computer chose {computer_choice}.\")\n",
        "\n",
        "    result = determine_winner(user_choice, computer_choice)\n",
        "    print(result)\n",
        "\n",
        "    play_again = input(\"Do you want to play again? (yes/no): \").strip().lower()\n",
        "    if play_again != \"yes\":\n",
        "        break\n"
      ],
      "metadata": {
        "colab": {
          "base_uri": "https://localhost:8080/"
        },
        "id": "N8n3aobl-Wyq",
        "outputId": "4feb11e6-6192-4842-d196-aac868b7952e"
      },
      "execution_count": 21,
      "outputs": [
        {
          "name": "stdout",
          "output_type": "stream",
          "text": [
            "Choose Rock, Paper, or Scissors: ROCK\n",
            "You chose rock.\n",
            "Computer chose paper.\n",
            "Computer wins!\n",
            "Do you want to play again? (yes/no): YES\n",
            "Choose Rock, Paper, or Scissors: ROCK\n",
            "You chose rock.\n",
            "Computer chose scissors.\n",
            "You win!\n",
            "Do you want to play again? (yes/no): NO\n"
          ]
        }
      ]
    }
  ],
  "metadata": {
    "colab": {
      "provenance": [],
      "authorship_tag": "ABX9TyMVRbikBjs/32ReUfteAN9Z",
      "include_colab_link": true
    },
    "kernelspec": {
      "display_name": "Python 3",
      "name": "python3"
    },
    "language_info": {
      "name": "python"
    }
  },
  "nbformat": 4,
  "nbformat_minor": 0
}